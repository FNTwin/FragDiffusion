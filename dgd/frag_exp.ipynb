{
 "cells": [
  {
   "cell_type": "code",
   "execution_count": null,
   "metadata": {},
   "outputs": [],
   "source": [
    "\n",
    "import pathlib\n",
    "import hydra\n",
    "import os, sys\n",
    "import torch\n",
    "sys.path.append('../')\n",
    "\n",
    "import torch\n",
    "import wandb\n",
    "import hydra\n",
    "import omegaconf\n",
    "from omegaconf import DictConfig\n",
    "from pytorch_lightning import Trainer\n",
    "from pytorch_lightning.callbacks import ModelCheckpoint\n",
    "from pytorch_lightning.utilities.warnings import PossibleUserWarning\n",
    "\n",
    "from dgd import utils\n",
    "from dgd.datasets.frag_dataset import FragDataset, FragDataModule, FragDatasetInfos\n",
    "from dgd.analysis.frag_utils import PyGGraphToMolConverter, FragSamplingMetrics\n",
    "from dgd.datasets.frag_dataset import FRAG_GRAPH_FILE, FRAG_INDEX_FILE, FRAG_EDGE_FILE\n",
    "\n"
   ]
  },
  {
   "cell_type": "code",
   "execution_count": null,
   "metadata": {},
   "outputs": [],
   "source": [
    "config_dir = pathlib.Path('../configs/')\n",
    "hydra.core.global_hydra.GlobalHydra.instance().clear()\n",
    "hydra.initialize(config_dir)\n",
    "cfg = hydra.compose('config.yaml')\n",
    "dataset_config = cfg[\"dataset\"]\n",
    "cfg.general.wandb = 'disabled'\n",
    "print(cfg)\n"
   ]
  },
  {
   "cell_type": "code",
   "execution_count": null,
   "metadata": {},
   "outputs": [],
   "source": [
    "\n",
    "dataset = FragDataset(FRAG_GRAPH_FILE)\n",
    "converter = PyGGraphToMolConverter('../data/' + FRAG_INDEX_FILE, '../data/' +FRAG_EDGE_FILE)\n",
    "example_graph = dataset[0]\n",
    "converter.graph_to_mol(example_graph, count_non_edge=True)"
   ]
  },
  {
   "cell_type": "code",
   "execution_count": null,
   "metadata": {},
   "outputs": [],
   "source": [
    "\n",
    "from dgd.metrics.abstract_metrics import TrainAbstractMetricsDiscrete\n",
    "from dgd.analysis.visualization import MolecularVisualization, NonMolecularVisualization\n",
    "from dgd.diffusion.extra_features import DummyExtraFeatures, ExtraFeatures\n",
    "from diffusion_model_discrete import DiscreteDenoisingDiffusion\n",
    "\n",
    "datamodule = FragDataModule(cfg)\n",
    "sampling_metrics = FragSamplingMetrics(datamodule.dataloaders, [])\n",
    "\n",
    "dataset_infos = FragDatasetInfos(datamodule, dataset_config)\n",
    "train_metrics = TrainAbstractMetricsDiscrete()\n",
    "visualization_tools = NonMolecularVisualization()\n",
    "\n",
    "extra_features = DummyExtraFeatures()\n",
    "domain_features = DummyExtraFeatures()\n",
    "\n",
    "dataset_infos.compute_input_output_dims(datamodule=datamodule, extra_features=extra_features,\n",
    "                                        domain_features=domain_features)\n",
    "\n",
    "model_kwargs = {'dataset_infos': dataset_infos, 'train_metrics': train_metrics,\n",
    "                'sampling_metrics': sampling_metrics, 'visualization_tools': visualization_tools,\n",
    "                'extra_features': extra_features, 'domain_features': domain_features}"
   ]
  },
  {
   "cell_type": "code",
   "execution_count": null,
   "metadata": {},
   "outputs": [],
   "source": [
    "model = DiscreteDenoisingDiffusion(cfg=cfg, **model_kwargs)"
   ]
  },
  {
   "cell_type": "code",
   "execution_count": null,
   "metadata": {},
   "outputs": [],
   "source": [
    "def setup_wandb(cfg):\n",
    "    config_dict = omegaconf.OmegaConf.to_container(cfg, resolve=True, throw_on_missing=True)\n",
    "    kwargs = {'name': cfg.general.name, 'project': f'graph_ddm_{cfg.dataset.name}', 'config': config_dict,\n",
    "              'settings': wandb.Settings(_disable_stats=True), 'reinit': True, 'mode': cfg.general.wandb}\n",
    "    wandb.init(**kwargs)\n",
    "    wandb.save('*.txt')\n",
    "    return cfg\n",
    "cfg = setup_wandb(cfg)"
   ]
  },
  {
   "cell_type": "code",
   "execution_count": null,
   "metadata": {},
   "outputs": [],
   "source": [
    "trainer = Trainer(gradient_clip_val=cfg.train.clip_grad,\n",
    "                    accelerator='gpu' if torch.cuda.is_available() and cfg.general.gpus > 0 else 'cpu',\n",
    "                    devices=cfg.general.gpus if torch.cuda.is_available() and cfg.general.gpus > 0 else None,\n",
    "                    limit_train_batches=20,\n",
    "                    limit_val_batches=20,\n",
    "                    limit_test_batches=20,\n",
    "                    val_check_interval=cfg.general.val_check_interval,\n",
    "                    max_epochs=cfg.train.n_epochs,\n",
    "                    check_val_every_n_epoch=cfg.general.check_val_every_n_epochs,\n",
    "                    fast_dev_run=cfg.general.name == 'debug',\n",
    "                    strategy='ddp' if cfg.general.gpus > 1 else None,\n",
    "                    enable_progress_bar=False,\n",
    "                    callbacks=[],\n",
    "                    logger=[])"
   ]
  },
  {
   "cell_type": "code",
   "execution_count": null,
   "metadata": {},
   "outputs": [],
   "source": [
    "\n",
    "trainer.fit(model, datamodule=datamodule, ckpt_path=cfg.general.resume)\n"
   ]
  }
 ],
 "metadata": {
  "kernelspec": {
   "display_name": "Python 3.10.6 ('digress')",
   "language": "python",
   "name": "python3"
  },
  "language_info": {
   "codemirror_mode": {
    "name": "ipython",
    "version": 3
   },
   "file_extension": ".py",
   "mimetype": "text/x-python",
   "name": "python",
   "nbconvert_exporter": "python",
   "pygments_lexer": "ipython3",
   "version": "3.10.6"
  },
  "orig_nbformat": 4,
  "vscode": {
   "interpreter": {
    "hash": "505b91f222c68926c9e272cd54eeb657ff6b5e10102446bd725dac20a710dd27"
   }
  }
 },
 "nbformat": 4,
 "nbformat_minor": 2
}
