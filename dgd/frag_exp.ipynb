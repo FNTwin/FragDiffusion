{
 "cells": [
  {
   "cell_type": "code",
   "execution_count": 12,
   "metadata": {},
   "outputs": [],
   "source": [
    "\n",
    "import pathlib\n",
    "import hydra\n",
    "import os, sys\n",
    "import torch\n",
    "sys.path.append('../')\n",
    "\n",
    "import torch\n",
    "import wandb\n",
    "import hydra\n",
    "import omegaconf\n",
    "from omegaconf import DictConfig\n",
    "from pytorch_lightning import Trainer\n",
    "from pytorch_lightning.callbacks import ModelCheckpoint\n",
    "from pytorch_lightning.utilities.warnings import PossibleUserWarning\n",
    "\n",
    "from dgd import utils\n",
    "from dgd.datasets.frag_dataset import FragDataset, FragDataModule, FragDatasetInfos\n",
    "from dgd.analysis.graph_to_mol import PyGGraphToMolConverter\n",
    "from dgd.datasets.frag_dataset import FRAG_GRAPH_FILE, FRAG_INDEX_FILE, FRAG_EDGE_FILE\n",
    "\n"
   ]
  },
  {
   "cell_type": "code",
   "execution_count": 13,
   "metadata": {},
   "outputs": [],
   "source": []
  },
  {
   "cell_type": "code",
   "execution_count": 14,
   "metadata": {},
   "outputs": [
    {
     "name": "stdout",
     "output_type": "stream",
     "text": [
      "{'general': {'name': 'graph-tf-model', 'wandb': 'online', 'gpus': 1, 'resume': None, 'test_only': None, 'check_val_every_n_epochs': 5, 'sample_every_val': 4, 'val_check_interval': None, 'samples_to_generate': 512, 'samples_to_save': 20, 'chains_to_save': 1, 'log_every_steps': 50, 'number_chain_steps': 50, 'final_model_samples_to_generate': 10000, 'final_model_samples_to_save': 30, 'final_model_chains_to_save': 20, 'evaluate_all_checkpoints': False}, 'model': {'type': 'discrete', 'transition': 'marginal', 'model': 'graph_tf', 'diffusion_steps': 500, 'diffusion_noise_schedule': 'cosine', 'n_layers': 5, 'extra_features': 'all', 'hidden_mlp_dims': {'X': 256, 'E': 128, 'y': 128}, 'hidden_dims': {'dx': 256, 'de': 64, 'dy': 64, 'n_head': 8, 'dim_ffX': 256, 'dim_ffE': 128, 'dim_ffy': 128}, 'lambda_train': [5, 0]}, 'train': {'n_epochs': 1000, 'batch_size': 512, 'lr': 0.0002, 'clip_grad': None, 'save_model': True, 'num_workers': 0, 'ema_decay': 0, 'progress_bar': False, 'weight_decay': 1e-12, 'optimizer': 'adamw', 'amsgrad': True, 'overfit': False, 'seed': 0}, 'dataset': {'name': 'qm9', 'datadir': 'data/qm9/qm9_pyg/', 'remove_h': True, 'random_subset': None, 'pin_memory': False}}\n"
     ]
    },
    {
     "name": "stderr",
     "output_type": "stream",
     "text": [
      "/var/folders/9q/slm5n1dd2f524zmlmd4y58gh0000gn/T/ipykernel_93251/758915753.py:3: UserWarning: \n",
      "The version_base parameter is not specified.\n",
      "Please specify a compatability version level, or None.\n",
      "Will assume defaults for version 1.1\n",
      "  hydra.initialize(config_dir)\n"
     ]
    }
   ],
   "source": [
    "config_dir = pathlib.Path('../configs/')\n",
    "hydra.core.global_hydra.GlobalHydra.instance().clear()\n",
    "hydra.initialize(config_dir)\n",
    "cfg = hydra.compose('config.yaml')\n",
    "dataset_config = cfg[\"dataset\"] \n",
    "print(cfg)"
   ]
  },
  {
   "cell_type": "code",
   "execution_count": 17,
   "metadata": {},
   "outputs": [
    {
     "name": "stdout",
     "output_type": "stream",
     "text": [
      "Dataset /Users/daniellevy/Documents/courses/760/project/FragDiffusion/dgd/datasets/../../data/frag/mol_frag_graphs.pt loaded from file\n",
      "Dataset /Users/daniellevy/Documents/courses/760/project/FragDiffusion/dgd/datasets/../../data/frag/mol_frag_graphs.pt loaded from file\n",
      "Dataset sizes: train 8914, val 2229, test 2786\n"
     ]
    }
   ],
   "source": [
    "\n",
    "dataset = FragDataset(FRAG_GRAPH_FILE)\n",
    "datamodule = FragDataModule(cfg)\n",
    "#sampling_metrics = SBMSamplingMetrics(datamodule.dataloaders)\n",
    "\n",
    "dataset_infos = FragDatasetInfos(datamodule, dataset_config)\n",
    "converter = PyGGraphToMolConverter('../data/' + FRAG_INDEX_FILE, '../data/' +FRAG_EDGE_FILE)\n",
    "#converter.graph_to_mol(graph)"
   ]
  },
  {
   "cell_type": "code",
   "execution_count": 18,
   "metadata": {},
   "outputs": [
    {
     "ename": "TypeError",
     "evalue": "PyGGraphToMolConverter.graph_to_mol() got an unexpected keyword argument 'count_non_edge'",
     "output_type": "error",
     "traceback": [
      "\u001b[0;31m---------------------------------------------------------------------------\u001b[0m",
      "\u001b[0;31mTypeError\u001b[0m                                 Traceback (most recent call last)",
      "Cell \u001b[0;32mIn [18], line 2\u001b[0m\n\u001b[1;32m      1\u001b[0m graph \u001b[38;5;241m=\u001b[39m dataset[\u001b[38;5;241m0\u001b[39m]\n\u001b[0;32m----> 2\u001b[0m \u001b[43mconverter\u001b[49m\u001b[38;5;241;43m.\u001b[39;49m\u001b[43mgraph_to_mol\u001b[49m\u001b[43m(\u001b[49m\u001b[43mgraph\u001b[49m\u001b[43m,\u001b[49m\u001b[43m \u001b[49m\u001b[43mcount_non_edge\u001b[49m\u001b[38;5;241;43m=\u001b[39;49m\u001b[38;5;28;43;01mTrue\u001b[39;49;00m\u001b[43m)\u001b[49m\n",
      "\u001b[0;31mTypeError\u001b[0m: PyGGraphToMolConverter.graph_to_mol() got an unexpected keyword argument 'count_non_edge'"
     ]
    }
   ],
   "source": [
    "graph = dataset[0]\n",
    "converter.graph_to_mol(graph, count_non_edge=True)"
   ]
  },
  {
   "cell_type": "code",
   "execution_count": 1,
   "metadata": {},
   "outputs": [
    {
     "ename": "",
     "evalue": "",
     "output_type": "error",
     "traceback": [
      "The Kernel crashed while executing code in the the current cell or a previous cell. Please review the code in the cell(s) to identify a possible cause of the failure. Click <a href='https://aka.ms/vscodeJupyterKernelCrash'>here</a> for more info. View Jupyter <a href='command:jupyter.viewOutput'>log</a> for further details."
     ]
    },
    {
     "ename": "",
     "evalue": "",
     "output_type": "error",
     "traceback": [
      "\u001b[1;31mCanceled future for execute_request message before replies were done"
     ]
    }
   ],
   "source": [
    "\n",
    "#train_metrics = TrainAbstractMetricsDiscrete() if cfg.model.type == 'discrete' else TrainAbstractMetrics()\n",
    "#visualization_tools = NonMolecularVisualization()\n",
    "\n",
    "#if cfg.model.type == 'discrete' and cfg.model.extra_features is not None:\n",
    "#    extra_features = ExtraFeatures(cfg.model.extra_features, dataset_info=dataset_infos)\n",
    "#else:\n",
    "extra_features = DummyExtraFeatures()\n",
    "domain_features = DummyExtraFeatures()\n",
    "\n",
    "dataset_infos.compute_input_output_dims(datamodule=datamodule, extra_features=extra_features,\n",
    "                                        domain_features=domain_features)\n",
    "\n",
    "model_kwargs = {'dataset_infos': dataset_infos, 'train_metrics': train_metrics,\n",
    "                'sampling_metrics': sampling_metrics, 'visualization_tools': visualization_tools,\n",
    "                'extra_features': extra_features, 'domain_features': domain_features}"
   ]
  },
  {
   "cell_type": "code",
   "execution_count": null,
   "metadata": {},
   "outputs": [],
   "source": []
  },
  {
   "cell_type": "code",
   "execution_count": null,
   "metadata": {},
   "outputs": [],
   "source": []
  }
 ],
 "metadata": {
  "kernelspec": {
   "display_name": "Python 3.10.6 ('digress')",
   "language": "python",
   "name": "python3"
  },
  "language_info": {
   "codemirror_mode": {
    "name": "ipython",
    "version": 3
   },
   "file_extension": ".py",
   "mimetype": "text/x-python",
   "name": "python",
   "nbconvert_exporter": "python",
   "pygments_lexer": "ipython3",
   "version": "3.10.6"
  },
  "orig_nbformat": 4,
  "vscode": {
   "interpreter": {
    "hash": "505b91f222c68926c9e272cd54eeb657ff6b5e10102446bd725dac20a710dd27"
   }
  }
 },
 "nbformat": 4,
 "nbformat_minor": 2
}
